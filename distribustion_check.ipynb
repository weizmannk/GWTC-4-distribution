{
 "cells": [
  {
   "cell_type": "code",
   "execution_count": null,
   "id": "0",
   "metadata": {},
   "outputs": [],
   "source": [
    "import os\n",
    "\n",
    "import astropy.units as u\n",
    "import numpy as np\n",
    "import requests\n",
    "from astropy.cosmology import Planck18 as cosmo\n",
    "from astropy.table import Table\n",
    "from matplotlib import pyplot as plt\n",
    "from scipy.stats import ks_2samp"
   ]
  },
  {
   "cell_type": "code",
   "execution_count": null,
   "id": "1",
   "metadata": {},
   "outputs": [],
   "source": [
    "def download_file(url, filename):\n",
    "    try:\n",
    "        response = requests.get(url, stream=True)\n",
    "        response.raise_for_status()\n",
    "        with open(filename, \"wb\") as f:\n",
    "            for chunk in response.iter_content(chunk_size=8192):\n",
    "                f.write(chunk)\n",
    "        return filename\n",
    "    except Exception as e:\n",
    "        print(f\"Error downloading file: {e}\")\n",
    "        return None"
   ]
  },
  {
   "cell_type": "markdown",
   "id": "2",
   "metadata": {},
   "source": [
    "## 1. Read distribution sample."
   ]
  },
  {
   "cell_type": "code",
   "execution_count": null,
   "id": "3",
   "metadata": {},
   "outputs": [],
   "source": [
    "filename = \"O4_result/baseline5_widesigmachi2_mass_NotchFilterBinnedPairingMassDistribution_redshift_powerlaw_mag_iid_spin_magnitude_gaussian_tilt_iid_spin_orientation_result_events_baseline5_all.h5\""
   ]
  },
  {
   "cell_type": "code",
   "execution_count": null,
   "id": "4",
   "metadata": {},
   "outputs": [],
   "source": [
    "table = Table.read(filename)\n",
    "table[:2]"
   ]
  },
  {
   "cell_type": "markdown",
   "id": "5",
   "metadata": {},
   "source": [
    "## 2. Convert GWTC-4's distribution to suitable format for bayestar-inject"
   ]
  },
  {
   "cell_type": "code",
   "execution_count": null,
   "id": "6",
   "metadata": {},
   "outputs": [],
   "source": [
    "z = table[\"redshift\"]\n",
    "distance = cosmo.luminosity_distance(z).to_value(u.Mpc)\n",
    "\n",
    "gwtc4_samples = Table(\n",
    "    {\n",
    "        \"mass1\": table[\"mass_1\"],\n",
    "        \"mass2\": table[\"mass_2\"],\n",
    "        \"spin1z\": table[\"a_1\"] * table[\"cos_tilt_1\"],\n",
    "        \"spin2z\": table[\"a_2\"] * table[\"cos_tilt_2\"],\n",
    "        \"distance\": distance,\n",
    "    }\n",
    ")"
   ]
  },
  {
   "cell_type": "markdown",
   "id": "7",
   "metadata": {},
   "source": [
    "## 3. Number of events in each sub-population"
   ]
  },
  {
   "cell_type": "code",
   "execution_count": null,
   "id": "8",
   "metadata": {},
   "outputs": [],
   "source": [
    "ns_max_mass = 3\n",
    "source_mass1 = gwtc4_samples[\"mass1\"]\n",
    "source_mass2 = gwtc4_samples[\"mass2\"]\n",
    "\n",
    "# classify systems\n",
    "\n",
    "BNS = np.sum((source_mass1 < ns_max_mass) & (source_mass2 < ns_max_mass))\n",
    "NSBH = np.sum((source_mass1 >= ns_max_mass) & (source_mass2 < ns_max_mass))\n",
    "BBH = np.sum((source_mass1 >= ns_max_mass) & (source_mass2 >= ns_max_mass))"
   ]
  },
  {
   "cell_type": "code",
   "execution_count": null,
   "id": "9",
   "metadata": {},
   "outputs": [],
   "source": [
    "# print results\n",
    "print(\"CBC classification results:\")\n",
    "print(f\"  BNS  : {BNS}\")\n",
    "print(f\"  NSBH : {NSBH}\")\n",
    "print(f\"  BBH  : {BBH}\")"
   ]
  },
  {
   "cell_type": "markdown",
   "id": "10",
   "metadata": {},
   "source": [
    "## GWTC-3 distribustion"
   ]
  },
  {
   "cell_type": "code",
   "execution_count": null,
   "id": "11",
   "metadata": {},
   "outputs": [],
   "source": [
    "# gwtc3_samples = Table.read(\"./data/farah.h5\")\n",
    "\n",
    "# gwtc3_samples[:2]\n",
    "\n",
    "file_url = \"https://dcc.ligo.org/LIGO-T2100512/public/O1O2O3all_mass_h_iid_mag_iid_tilt_powerlaw_redshift_maxP_events_all.h5\"\n",
    "file_name = os.path.join(\"data\", file_url.split(\"/\")[-1])\n",
    "input_file = download_file(file_url, file_name)"
   ]
  },
  {
   "cell_type": "code",
   "execution_count": null,
   "id": "12",
   "metadata": {},
   "outputs": [],
   "source": [
    "gwtc3_table = Table.read(input_file)\n",
    "\n",
    "z = gwtc3_table[\"redshift\"]\n",
    "distance = cosmo.luminosity_distance(z).to_value(u.Mpc)\n",
    "\n",
    "gwtc3_samples = Table(\n",
    "    {\n",
    "        \"mass1\": gwtc3_table[\"mass_1\"],\n",
    "        \"mass2\": gwtc3_table[\"mass_2\"],\n",
    "        \"spin1z\": gwtc3_table[\"a_1\"] * gwtc3_table[\"cos_tilt_1\"],\n",
    "        \"spin2z\": gwtc3_table[\"a_2\"] * gwtc3_table[\"cos_tilt_2\"],\n",
    "        \"distance\": distance,\n",
    "    }\n",
    ")"
   ]
  },
  {
   "cell_type": "code",
   "execution_count": null,
   "id": "13",
   "metadata": {},
   "outputs": [],
   "source": [
    "gwtc3_table[:2]"
   ]
  },
  {
   "cell_type": "code",
   "execution_count": null,
   "id": "14",
   "metadata": {},
   "outputs": [],
   "source": [
    "ns_max_mass = 3\n",
    "source_mass1 = gwtc3_samples[\"mass1\"]\n",
    "source_mass2 = gwtc3_samples[\"mass2\"]\n",
    "\n",
    "# classify systems\n",
    "\n",
    "BNS = np.sum((source_mass1 < ns_max_mass) & (source_mass2 < ns_max_mass))\n",
    "NSBH = np.sum((source_mass1 >= ns_max_mass) & (source_mass2 < ns_max_mass))\n",
    "BBH = np.sum((source_mass1 >= ns_max_mass) & (source_mass2 >= ns_max_mass))\n",
    "\n",
    "# print results\n",
    "print(\"CBC classification results:\")\n",
    "print(f\"  BNS  : {BNS}\")\n",
    "print(f\"  NSBH : {NSBH}\")\n",
    "print(f\"  BBH  : {BBH}\")"
   ]
  },
  {
   "cell_type": "markdown",
   "id": "15",
   "metadata": {},
   "source": [
    "# KS Test"
   ]
  },
  {
   "cell_type": "code",
   "execution_count": null,
   "id": "16",
   "metadata": {},
   "outputs": [],
   "source": [
    "gwtc3_samples[\"log10_distance\"] = np.log10(gwtc3_samples[\"distance\"])\n",
    "gwtc4_samples[\"log10_distance\"] = np.log10(gwtc4_samples[\"distance\"])"
   ]
  },
  {
   "cell_type": "code",
   "execution_count": null,
   "id": "17",
   "metadata": {},
   "outputs": [],
   "source": [
    "for col in [\"mass1\", \"mass2\", \"spin1z\", \"spin2z\", \"log10_distance\"]:\n",
    "    fig, ax = plt.subplots()\n",
    "    ax.hist(\n",
    "        [gwtc3_samples[col], gwtc4_samples[col]],\n",
    "        label=[\"GWTC-3\", \"GWTC-4\"],\n",
    "        histtype=\"step\",\n",
    "        density=1,\n",
    "        bins=50,\n",
    "    )\n",
    "    ax.set_ylim(0, None)\n",
    "    ax.set_ylabel(\"pdf\")\n",
    "    ax2 = ax.twinx()\n",
    "    ax2.set_ylabel(\"cdf\")\n",
    "    ax2.set_ylim(0, 1)\n",
    "    ax2.plot(\n",
    "        np.sort(gwtc3_samples[col]),\n",
    "        np.linspace(0, 1, len(gwtc3_samples)),\n",
    "        label=\"GWTC-3\",\n",
    "    )\n",
    "    ax2.plot(\n",
    "        np.sort(gwtc4_samples[col]),\n",
    "        np.linspace(0, 1, len(gwtc4_samples)),\n",
    "        label=\"GWTC-4\",\n",
    "    )\n",
    "    ax.legend(loc=\"lower right\")\n",
    "    ax2.legend(loc=\"upper right\")\n",
    "    stat, pvalue = ks_2samp(gwtc4_samples[col], gwtc4_samples[col])\n",
    "    ax.set_xlabel(col)\n",
    "    ax.set_title(f\"K-S test statistic={stat:0.3f}, P-value={pvalue:0.3g}\")\n",
    "    fig.savefig(f\"ks_{col}.png\", dpi=300)"
   ]
  },
  {
   "cell_type": "code",
   "execution_count": null,
   "id": "18",
   "metadata": {},
   "outputs": [],
   "source": []
  }
 ],
 "metadata": {
  "kernelspec": {
   "display_name": "gwpopulation",
   "language": "python",
   "name": "python3"
  },
  "language_info": {
   "codemirror_mode": {
    "name": "ipython",
    "version": 3
   },
   "file_extension": ".py",
   "mimetype": "text/x-python",
   "name": "python",
   "nbconvert_exporter": "python",
   "pygments_lexer": "ipython3",
   "version": "3.11.13"
  }
 },
 "nbformat": 4,
 "nbformat_minor": 5
}
