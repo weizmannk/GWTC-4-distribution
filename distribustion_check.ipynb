{
 "cells": [
  {
   "cell_type": "code",
   "execution_count": null,
   "id": "0",
   "metadata": {},
   "outputs": [],
   "source": [
    "import os\n",
    "\n",
    "import astropy.units as u\n",
    "import numpy as np\n",
    "import requests\n",
    "from astropy.cosmology import Planck18 as cosmo\n",
    "from astropy.table import Table\n",
    "from matplotlib import pyplot as plt\n",
    "from scipy.stats import ks_2samp\n",
    "\n",
    "from utils.cupy_utils import truncnorm, xp"
   ]
  },
  {
   "cell_type": "code",
   "execution_count": null,
   "id": "1",
   "metadata": {},
   "outputs": [],
   "source": [
    "def download_file(url, filename):\n",
    "    try:\n",
    "        response = requests.get(url, stream=True)\n",
    "        response.raise_for_status()\n",
    "        with open(filename, \"wb\") as f:\n",
    "            for chunk in response.iter_content(chunk_size=8192):\n",
    "                f.write(chunk)\n",
    "        return filename\n",
    "    except Exception as e:\n",
    "        print(f\"Error downloading file: {e}\")\n",
    "        return None"
   ]
  },
  {
   "cell_type": "markdown",
   "id": "be564f69",
   "metadata": {},
   "source": [
    "### Distribution Models \n",
    "\n",
    "- **GWTC-3** → `GWTC3_powerlaw_dip_break(mass)`  \n",
    "  Power-law with a smoothed NS–BH gap and broken slope.\n",
    "\n",
    "- **GWTC-4** → `GWTC4_broken_powerlaw_peaks(mass)`  \n",
    "  Broken power-law with two truncated Gaussian peaks and smooth filters."
   ]
  },
  {
   "cell_type": "code",
   "execution_count": null,
   "id": "a2a90efd",
   "metadata": {},
   "outputs": [],
   "source": [
    "def GWTC3_powerlaw_dip_break(mass):\n",
    "    \"\"\"\n",
    "    GWTC-3 mass distribution.\n",
    "    Power-law + Dip + Break model.\n",
    "    \"\"\"\n",
    "\n",
    "    # --- GWTC-3 model parameters ---\n",
    "    ALPHA_1 = -2.16\n",
    "    ALPHA_2 = -1.46\n",
    "    A = 0.97\n",
    "    M_GAP_LO = 2.72\n",
    "    M_GAP_HI = 6.13\n",
    "    ETA_GAP_LO = 50\n",
    "    ETA_GAP_HI = 50\n",
    "    ETA_MIN = 50\n",
    "    ETA_MAX = 4.91\n",
    "    # BETA = 1.89\n",
    "    M_MIN = 1.16\n",
    "    M_MAX = 54.38\n",
    "\n",
    "    # --- Smooth filter functions ---\n",
    "    def lopass(mass, m_0, eta):\n",
    "        return 1 / (1 + (mass / m_0) ** eta)\n",
    "\n",
    "    def hipass(mass, m_0, eta):\n",
    "        return 1 - lopass(mass, m_0, eta)\n",
    "\n",
    "    def bandpass(mass, m_lo, m_hi, eta_lo, eta_hi, A):\n",
    "        return 1 - A * hipass(mass, m_lo, eta_lo) * lopass(mass, m_hi, eta_hi)\n",
    "\n",
    "    # --- Combine: smoothed gap + low/high cutoffs + broken slope ---\n",
    "    base = (\n",
    "        bandpass(mass, M_GAP_LO, M_GAP_HI, ETA_GAP_LO, ETA_GAP_HI, A)  # NS–BH gap\n",
    "        * hipass(mass, M_MIN, ETA_MIN)  # low-mass cutoff\n",
    "        * lopass(mass, M_MAX, ETA_MAX)  # high-mass cutoff\n",
    "        * (mass / M_GAP_HI)\n",
    "        ** np.where(mass < M_GAP_HI, ALPHA_1, ALPHA_2)  # broken slope\n",
    "    )\n",
    "\n",
    "    return base\n",
    "\n",
    "\n",
    "def GWTC4_broken_powerlaw_peaks(m):\n",
    "    \"\"\"\n",
    "    GWTC-4 mass distribution.\n",
    "    Broken power-law with two truncated Gaussian peaks and smooth filters.\n",
    "    \"\"\"\n",
    "    # --- GWTC-4 model parameters ---\n",
    "\n",
    "    A = 0.091462\n",
    "    A2 = 0.828165\n",
    "    BH_MAX = 152.055979\n",
    "    BH_MIN = 7.763955\n",
    "    NS_MAX = 4.094744\n",
    "    NS_MIN = 1.176367\n",
    "    UPPER_MAX = 66.576705\n",
    "    UPPER_MIN = 38.277415\n",
    "\n",
    "    ALPHA_1 = -4.509283\n",
    "    ALPHA_2 = -0.902035\n",
    "    ALPHA_DIP = -1.679769\n",
    "    # ALPHA_CHIi=  -0.013141\n",
    "\n",
    "    MIX1 = 735.473276\n",
    "    MIX2 = 211.733327\n",
    "    MU1 = 37.811196\n",
    "    MU2 = 8.897742\n",
    "    SIG1 = 17.126431\n",
    "    SIG2 = 1.044693\n",
    "\n",
    "    N0 = 50.0\n",
    "    N1 = 50.0\n",
    "    N2 = 50.0\n",
    "    N3 = 30.0\n",
    "    N4 = 30.0\n",
    "    N5 = 10.041072\n",
    "\n",
    "    # amax=        1.000000\n",
    "    # beta_chi=   -0.942731\n",
    "    # beta_pair_1= 0.964138\n",
    "    # beta_pair_2= 2.160036\n",
    "    # lamb       = 2.406658\n",
    "    # mbreak=     5.000000\n",
    "\n",
    "    ABS_MMIN = 0.5\n",
    "    ABS_MMAX = 350.0\n",
    "\n",
    "    # --- Truncated Gaussian peaks ---\n",
    "    gaussian_peak1 = truncnorm(m, MU1, SIG1, low=ABS_MMIN, high=ABS_MMAX)\n",
    "    gaussian_peak2 = truncnorm(m, MU2, SIG2, low=ABS_MMIN, high=ABS_MMAX)\n",
    "\n",
    "    # --- Broken power-law with dip between NS_MAX and BH_MIN ---\n",
    "    condlist = [m < NS_MAX, (m >= NS_MAX) & (m < BH_MIN), m >= BH_MIN]\n",
    "    choicelist = [\n",
    "        m**ALPHA_1,\n",
    "        (m**ALPHA_DIP) * (NS_MAX ** (ALPHA_1 - ALPHA_DIP)),\n",
    "        (m**ALPHA_2)\n",
    "        * (NS_MAX ** (ALPHA_1 - ALPHA_DIP))\n",
    "        * (BH_MIN ** (ALPHA_DIP - ALPHA_2)),\n",
    "    ]\n",
    "    plaw = xp.select(condlist, choicelist, default=0.0)\n",
    "\n",
    "    # --- Smooth filters (notches + cutoffs) ---\n",
    "    highpass_lower = 1.0 + (NS_MIN / m) ** N0\n",
    "    notch_lower = 1.0 - A / ((1.0 + (NS_MAX / m) ** N1) * (1.0 + (m / BH_MIN) ** N2))\n",
    "    notch_upper = 1.0 - A2 / (\n",
    "        (1.0 + (UPPER_MIN / m) ** N3) * (1.0 + (m / UPPER_MAX) ** N4)\n",
    "    )\n",
    "    lowpass_upper = 1.0 + (m / BH_MAX) ** N5\n",
    "\n",
    "    # --- Combine all components ---\n",
    "    base = (\n",
    "        (1.0 + MIX1 * gaussian_peak1 + MIX2 * gaussian_peak2)\n",
    "        * plaw\n",
    "        * notch_lower\n",
    "        * notch_upper\n",
    "        / highpass_lower\n",
    "        / lowpass_upper\n",
    "    )\n",
    "\n",
    "    return base"
   ]
  },
  {
   "cell_type": "code",
   "execution_count": null,
   "id": "e680937c",
   "metadata": {},
   "outputs": [],
   "source": [
    "# mass grid\n",
    "m = np.geomspace(1, 100, 100000)\n",
    "gwtc3 = GWTC3_powerlaw_dip_break(m)\n",
    "gwtc4 = GWTC4_broken_powerlaw_peaks(m)"
   ]
  },
  {
   "cell_type": "code",
   "execution_count": null,
   "id": "40a457e3",
   "metadata": {},
   "outputs": [],
   "source": [
    "# evaluate both models\n",
    "\n",
    "# figure setup\n",
    "fig, ax = plt.subplots()\n",
    "ax.set_xscale(\"log\")\n",
    "ax.set_yscale(\"log\")\n",
    "\n",
    "# violet: '#9400D3', navy: '#001F75'\n",
    "ax.plot(\n",
    "    m, m * gwtc3, color=\"#001F75\", linewidth=2, label=\"GWTC-3: Power Law + Dip + Break\"\n",
    ")\n",
    "ax.plot(\n",
    "    m,\n",
    "    m * gwtc4,\n",
    "    color=\"#9400D3\",\n",
    "    linewidth=2,\n",
    "    linestyle=\"--\",\n",
    "    label=\"GWTC-4: Broken Power Law + 2 Peaks\",\n",
    ")\n",
    "\n",
    "# limits and labels\n",
    "ax.set_xlim(1, 100)\n",
    "ax.set_ylim(0.01, 100)\n",
    "ax.set_xlabel(r\"Mass $m\\,[M_\\odot]$\")\n",
    "ax.set_ylabel(r\"$m\\,p(m|\\lambda)$\")\n",
    "ax.legend()\n",
    "\n",
    "# Mass gap region in light blue, dashed lines\n",
    "y_min, y_max = ax.get_ylim()\n",
    "ax.fill_between([1.9, 2.9], y_min, y_max, color=\"blue\", alpha=0.12, zorder=1)\n",
    "ax.axvline(x=1.9, color=\"blue\", linestyle=\"--\", alpha=0.7)\n",
    "ax.axvline(x=2.9, color=\"blue\", linestyle=\"--\", alpha=0.7)\n",
    "ax.text(\n",
    "    2.4,\n",
    "    y_min * 1.2,\n",
    "    r\"$2.4^{+0.5}_{-0.5}$\",\n",
    "    ha=\"center\",\n",
    "    va=\"bottom\",\n",
    "    fontsize=11,\n",
    "    fontweight=\"bold\",\n",
    "    color=\"blue\",\n",
    ")\n",
    "\n",
    "fig.tight_layout()\n",
    "plt.show()"
   ]
  },
  {
   "cell_type": "markdown",
   "id": "0d7a08f8",
   "metadata": {},
   "source": [
    "# Process the GWTC-4 generatead distribution "
   ]
  },
  {
   "cell_type": "markdown",
   "id": "2",
   "metadata": {},
   "source": [
    "## 1. Read distribution sample."
   ]
  },
  {
   "cell_type": "code",
   "execution_count": null,
   "id": "3",
   "metadata": {},
   "outputs": [],
   "source": [
    "filename = \"O4_result/baseline5_widesigmachi2_mass_NotchFilterBinnedPairingMassDistribution_redshift_powerlaw_mag_iid_spin_magnitude_gaussian_tilt_iid_spin_orientation_result_events_baseline5_all.h5\""
   ]
  },
  {
   "cell_type": "code",
   "execution_count": null,
   "id": "4",
   "metadata": {},
   "outputs": [],
   "source": [
    "table = Table.read(filename)\n",
    "table[:2]"
   ]
  },
  {
   "cell_type": "code",
   "execution_count": null,
   "id": "5f75b892",
   "metadata": {},
   "outputs": [],
   "source": [
    "output_gwtc3 = \"GWTC-3.h5\"\n",
    "output_gwtc4 = \"GWTC-4.h5\""
   ]
  },
  {
   "cell_type": "markdown",
   "id": "5",
   "metadata": {},
   "source": [
    "## 2. Convert GWTC-4's distribution to suitable format for bayestar-inject"
   ]
  },
  {
   "cell_type": "code",
   "execution_count": null,
   "id": "6",
   "metadata": {},
   "outputs": [],
   "source": [
    "z = table[\"redshift\"]\n",
    "distance = cosmo.luminosity_distance(z).to_value(u.Mpc)\n",
    "\n",
    "gwtc4_samples = Table(\n",
    "    {\n",
    "        \"mass1\": table[\"mass_1\"],\n",
    "        \"mass2\": table[\"mass_2\"],\n",
    "        \"spin1z\": table[\"a_1\"] * table[\"cos_tilt_1\"],\n",
    "        \"spin2z\": table[\"a_2\"] * table[\"cos_tilt_2\"],\n",
    "        \"distance\": distance,\n",
    "    }\n",
    ")\n",
    "\n",
    "# Table(\n",
    "#     {\n",
    "#         \"mass1\": table[\"mass_1\"],\n",
    "#         \"mass2\": table[\"mass_2\"],\n",
    "#         \"spin1z\": table[\"a_1\"] * table[\"cos_tilt_1\"],\n",
    "#         \"spin2z\": table[\"a_2\"] * table[\"cos_tilt_2\"],\n",
    "#         # \"distance\": distance,\n",
    "#     }\n",
    "# ).write(\n",
    "#    output_gwtc4,\n",
    "#     overwrite=True\n",
    "# )"
   ]
  },
  {
   "cell_type": "markdown",
   "id": "7",
   "metadata": {},
   "source": [
    "## 3. Number of events in each sub-population"
   ]
  },
  {
   "cell_type": "code",
   "execution_count": null,
   "id": "8",
   "metadata": {},
   "outputs": [],
   "source": [
    "ns_max_mass = 3\n",
    "source_mass1 = gwtc4_samples[\"mass1\"]\n",
    "source_mass2 = gwtc4_samples[\"mass2\"]\n",
    "\n",
    "# classify systems\n",
    "\n",
    "BNS = np.sum((source_mass1 < ns_max_mass) & (source_mass2 < ns_max_mass))\n",
    "NSBH = np.sum((source_mass1 >= ns_max_mass) & (source_mass2 < ns_max_mass))\n",
    "BBH = np.sum((source_mass1 >= ns_max_mass) & (source_mass2 >= ns_max_mass))"
   ]
  },
  {
   "cell_type": "code",
   "execution_count": null,
   "id": "9",
   "metadata": {},
   "outputs": [],
   "source": [
    "# print results\n",
    "print(\"CBC classification results:\")\n",
    "print(f\"  BNS  : {BNS}\")\n",
    "print(f\"  NSBH : {NSBH}\")\n",
    "print(f\"  BBH  : {BBH}\")"
   ]
  },
  {
   "cell_type": "markdown",
   "id": "10",
   "metadata": {},
   "source": [
    "## GWTC-3 distribustion"
   ]
  },
  {
   "cell_type": "code",
   "execution_count": null,
   "id": "11",
   "metadata": {},
   "outputs": [],
   "source": [
    "# gwtc3_samples = Table.read(\"./data/farah.h5\")\n",
    "\n",
    "# gwtc3_samples[:2]\n",
    "\n",
    "file_url = \"https://dcc.ligo.org/LIGO-T2100512/public/O1O2O3all_mass_h_iid_mag_iid_tilt_powerlaw_redshift_maxP_events_all.h5\"\n",
    "file_name = os.path.join(\"data\", file_url.split(\"/\")[-1])\n",
    "input_file = download_file(file_url, file_name)"
   ]
  },
  {
   "cell_type": "code",
   "execution_count": null,
   "id": "12",
   "metadata": {},
   "outputs": [],
   "source": [
    "gwtc3_table = Table.read(input_file)\n",
    "\n",
    "z = gwtc3_table[\"redshift\"]\n",
    "distance = cosmo.luminosity_distance(z).to_value(u.Mpc)\n",
    "\n",
    "gwtc3_samples = Table(\n",
    "    {\n",
    "        \"mass1\": gwtc3_table[\"mass_1\"],\n",
    "        \"mass2\": gwtc3_table[\"mass_2\"],\n",
    "        \"spin1z\": gwtc3_table[\"a_1\"] * gwtc3_table[\"cos_tilt_1\"],\n",
    "        \"spin2z\": gwtc3_table[\"a_2\"] * gwtc3_table[\"cos_tilt_2\"],\n",
    "        \"distance\": distance,\n",
    "    }\n",
    ")"
   ]
  },
  {
   "cell_type": "code",
   "execution_count": null,
   "id": "13",
   "metadata": {},
   "outputs": [],
   "source": [
    "gwtc3_table[:2]"
   ]
  },
  {
   "cell_type": "code",
   "execution_count": null,
   "id": "14",
   "metadata": {},
   "outputs": [],
   "source": [
    "ns_max_mass = 3\n",
    "source_mass1 = gwtc3_samples[\"mass1\"]\n",
    "source_mass2 = gwtc3_samples[\"mass2\"]\n",
    "\n",
    "# classify systems\n",
    "\n",
    "BNS = np.sum((source_mass1 < ns_max_mass) & (source_mass2 < ns_max_mass))\n",
    "NSBH = np.sum((source_mass1 >= ns_max_mass) & (source_mass2 < ns_max_mass))\n",
    "BBH = np.sum((source_mass1 >= ns_max_mass) & (source_mass2 >= ns_max_mass))\n",
    "\n",
    "# print results\n",
    "print(\"CBC classification results:\")\n",
    "print(f\"  BNS  : {BNS}\")\n",
    "print(f\"  NSBH : {NSBH}\")\n",
    "print(f\"  BBH  : {BBH}\")"
   ]
  },
  {
   "cell_type": "markdown",
   "id": "15",
   "metadata": {},
   "source": [
    "# KS Test"
   ]
  },
  {
   "cell_type": "code",
   "execution_count": null,
   "id": "16",
   "metadata": {},
   "outputs": [],
   "source": [
    "gwtc3_samples[\"log10_distance\"] = np.log10(gwtc3_samples[\"distance\"])\n",
    "gwtc4_samples[\"log10_distance\"] = np.log10(gwtc4_samples[\"distance\"])"
   ]
  },
  {
   "cell_type": "code",
   "execution_count": null,
   "id": "17",
   "metadata": {},
   "outputs": [],
   "source": [
    "for col in [\"mass1\", \"mass2\", \"spin1z\", \"spin2z\", \"log10_distance\"]:\n",
    "    fig, ax = plt.subplots()\n",
    "    ax.hist(\n",
    "        [gwtc3_samples[col], gwtc4_samples[col]],\n",
    "        label=[\"GWTC-3\", \"GWTC-4\"],\n",
    "        histtype=\"step\",\n",
    "        density=1,\n",
    "        bins=50,\n",
    "    )\n",
    "    ax.set_ylim(0, None)\n",
    "    ax.set_ylabel(\"pdf\")\n",
    "    ax2 = ax.twinx()\n",
    "    ax2.set_ylabel(\"cdf\")\n",
    "    ax2.set_ylim(0, 1)\n",
    "    ax2.plot(\n",
    "        np.sort(gwtc3_samples[col]),\n",
    "        np.linspace(0, 1, len(gwtc3_samples)),\n",
    "        label=\"GWTC-3\",\n",
    "    )\n",
    "    ax2.plot(\n",
    "        np.sort(gwtc4_samples[col]),\n",
    "        np.linspace(0, 1, len(gwtc4_samples)),\n",
    "        label=\"GWTC-4\",\n",
    "    )\n",
    "    ax.legend(loc=\"lower right\")\n",
    "    ax2.legend(loc=\"upper right\")\n",
    "    stat, pvalue = ks_2samp(gwtc4_samples[col], gwtc4_samples[col])\n",
    "    ax.set_xlabel(col)\n",
    "    ax.set_title(f\"K-S test statistic={stat:0.3f}, P-value={pvalue:0.3g}\")\n",
    "    fig.savefig(f\"ks_{col}.png\", dpi=300)"
   ]
  }
 ],
 "metadata": {
  "kernelspec": {
   "display_name": "gwpopulation",
   "language": "python",
   "name": "python3"
  },
  "language_info": {
   "codemirror_mode": {
    "name": "ipython",
    "version": 3
   },
   "file_extension": ".py",
   "mimetype": "text/x-python",
   "name": "python",
   "nbconvert_exporter": "python",
   "pygments_lexer": "ipython3",
   "version": "3.11.13"
  }
 },
 "nbformat": 4,
 "nbformat_minor": 5
}
