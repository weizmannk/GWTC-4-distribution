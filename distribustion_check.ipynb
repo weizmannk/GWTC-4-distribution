{
 "cells": [
  {
   "cell_type": "code",
   "execution_count": 1,
   "id": "0",
   "metadata": {},
   "outputs": [],
   "source": [
    "import numpy as np\n",
    "from bilby.core.result import read_in_result\n",
    "from bilby.hyper.model import Model\n",
    "from gwpopulation.models.redshift import PowerLawRedshift\n",
    "from tqdm import tqdm\n",
    "\n",
    "from astropy.table import Table"
   ]
  },
  {
   "cell_type": "code",
   "execution_count": null,
   "id": "efb93041",
   "metadata": {},
   "outputs": [],
   "source": []
  },
  {
   "cell_type": "markdown",
   "id": "1",
   "metadata": {},
   "source": [
    "## 1. Read distribution sample."
   ]
  },
  {
   "cell_type": "code",
   "execution_count": null,
   "id": "3",
   "metadata": {},
   "outputs": [],
   "source": [
    "filename = \"O4_result/baseline5_widesigmachi2_mass_NotchFilterBinnedPairingMassDistribution_redshift_powerlaw_mag_iid_spin_magnitude_gaussian_tilt_iid_spin_orientation_result_events_baseline5_all.h5\""
   ]
  },
  {
   "cell_type": "code",
   "execution_count": null,
   "id": "5",
   "metadata": {},
   "outputs": [
    {
     "data": {
      "text/html": [
       "<div><i>Table length=2</i>\n",
       "<table id=\"table4882631440\" class=\"table-striped table-bordered table-condensed\">\n",
       "<thead><tr><th>mass_1</th><th>mass_ratio</th><th>a_1</th><th>a_2</th><th>cos_tilt_1</th><th>cos_tilt_2</th><th>redshift</th><th>mass_2</th></tr></thead>\n",
       "<thead><tr><th>float64</th><th>float64</th><th>float64</th><th>float64</th><th>float64</th><th>float64</th><th>float64</th><th>float64</th></tr></thead>\n",
       "<tr><td>1.4003127807104705</td><td>0.934954537546301</td><td>0.25226035333012586</td><td>0.17081800015796333</td><td>-0.07445077428355917</td><td>0.9653381954834288</td><td>1.4144591708724004</td><td>1.3092287883093328</td></tr>\n",
       "<tr><td>1.6007200708910987</td><td>0.9777425764328481</td><td>0.14350300511641967</td><td>0.05476595988100175</td><td>0.8604462381564546</td><td>0.7046866211743108</td><td>1.3044228619425053</td><td>1.5650921662608341</td></tr>\n",
       "</table></div>"
      ],
      "text/plain": [
       "<Table length=2>\n",
       "      mass_1           mass_ratio     ...      redshift            mass_2      \n",
       "     float64            float64       ...      float64            float64      \n",
       "------------------ ------------------ ... ------------------ ------------------\n",
       "1.4003127807104705  0.934954537546301 ... 1.4144591708724004 1.3092287883093328\n",
       "1.6007200708910987 0.9777425764328481 ... 1.3044228619425053 1.5650921662608341"
      ]
     },
     "execution_count": 6,
     "metadata": {},
     "output_type": "execute_result"
    }
   ],
   "source": [
    "table = Table.read(filename)\n",
    "table[:2]"
   ]
  },
  {
   "cell_type": "markdown",
   "id": "7cb264d9",
   "metadata": {},
   "source": [
    "## 2. Convert GWTC-4's distribution to suitable format for bayestar-inject"
   ]
  },
  {
   "cell_type": "code",
   "execution_count": 7,
   "id": "46db55c5",
   "metadata": {},
   "outputs": [],
   "source": [
    "data = Table({\n",
    "    'mass1': table['mass_1'],\n",
    "    'mass2': table['mass_2'],\n",
    "    'spin1z': table['a_1'] * table['cos_tilt_1'],\n",
    "    'spin2z': table['a_2'] * table['cos_tilt_2']\n",
    "})"
   ]
  },
  {
   "cell_type": "markdown",
   "id": "628b5aa3",
   "metadata": {},
   "source": [
    "## 3. Number of events in each sub-population"
   ]
  },
  {
   "cell_type": "code",
   "execution_count": 14,
   "id": "7bc502d4",
   "metadata": {},
   "outputs": [],
   "source": [
    "ns_max_mass = 3\n",
    "source_mass1 = data['mass1']\n",
    "source_mass2 = data['mass2']\n",
    "\n",
    "# classify systems\n",
    "\n",
    "BNS = np.sum((source_mass1 < ns_max_mass) & (source_mass2 < ns_max_mass))\n",
    "NSBH = np.sum((source_mass1 >= ns_max_mass) & (source_mass2 < ns_max_mass))\n",
    "BBH = np.sum((source_mass1 >= ns_max_mass) & (source_mass2 >= ns_max_mass))"
   ]
  },
  {
   "cell_type": "code",
   "execution_count": 16,
   "id": "f91f6e33",
   "metadata": {},
   "outputs": [
    {
     "name": "stdout",
     "output_type": "stream",
     "text": [
      "CBC classification results:\n",
      "  BNS  : 740077\n",
      "  NSBH : 160672\n",
      "  BBH  : 99251\n"
     ]
    }
   ],
   "source": [
    "# print results\n",
    "print(\"CBC classification results:\")\n",
    "print(f\"  BNS  : {BNS}\")\n",
    "print(f\"  NSBH : {NSBH}\")\n",
    "print(f\"  BBH  : {BBH}\")"
   ]
  },
  {
   "cell_type": "code",
   "execution_count": null,
   "id": "42d36867",
   "metadata": {},
   "outputs": [],
   "source": []
  }
 ],
 "metadata": {
  "kernelspec": {
   "display_name": "gwpopulation",
   "language": "python",
   "name": "python3"
  },
  "language_info": {
   "codemirror_mode": {
    "name": "ipython",
    "version": 3
   },
   "file_extension": ".py",
   "mimetype": "text/x-python",
   "name": "python",
   "nbconvert_exporter": "python",
   "pygments_lexer": "ipython3",
   "version": "3.11.13"
  }
 },
 "nbformat": 4,
 "nbformat_minor": 5
}
