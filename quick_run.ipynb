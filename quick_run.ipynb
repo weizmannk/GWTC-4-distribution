{
 "cells": [
  {
   "cell_type": "code",
   "execution_count": null,
   "id": "0",
   "metadata": {},
   "outputs": [],
   "source": [
    "import numpy as np\n",
    "from bilby.core.result import read_in_result\n",
    "from bilby.hyper.model import Model\n",
    "from gwpopulation.models.redshift import PowerLawRedshift\n",
    "from tqdm import tqdm\n",
    "\n",
    "from gwpop.mass_models import matter_matters_pairing\n",
    "from gwpop.spin_models import (\n",
    "    iid_spin_magnitude_beta,\n",
    "    iid_spin_orientation_gaussian_isotropic,\n",
    ")\n",
    "from pipe.gwpopulation_pipe_pdb import draw_true_values"
   ]
  },
  {
   "cell_type": "markdown",
   "id": "1",
   "metadata": {},
   "source": [
    "## 1. CONFIGURATION"
   ]
  },
  {
   "cell_type": "code",
   "execution_count": null,
   "id": "2",
   "metadata": {},
   "outputs": [],
   "source": [
    "RESULT_FILE = \"data/baseline5_widesigmachi2_mass_NotchFilterBinnedPairingMassDistribution_redshift_powerlaw_mag_iid_spin_magnitude_gaussian_tilt_iid_spin_orientation_result.hdf5\"\n",
    "N_SAMPLES = int(1e6)\n",
    "CHUNK_SIZE = int(1e3)\n",
    "Z_MAX = 2.3"
   ]
  },
  {
   "cell_type": "markdown",
   "id": "3",
   "metadata": {},
   "source": [
    "\n",
    "## 2. LOAD MAP PARAMETERS FROM BILBY RESULT FILE"
   ]
  },
  {
   "cell_type": "code",
   "execution_count": null,
   "id": "4",
   "metadata": {},
   "outputs": [],
   "source": [
    "# Load \"Broken Power Law + 2 Peaks model\" result\n",
    "result = read_in_result(RESULT_FILE)\n",
    "posterior = result.posterior.copy()"
   ]
  },
  {
   "cell_type": "code",
   "execution_count": null,
   "id": "5",
   "metadata": {},
   "outputs": [],
   "source": [
    "# Find the sample with maximum likelihood (same as max posterior for uniform priors)\n",
    "max_likelihood_sample = posterior.loc[np.argmax(posterior.log_likelihood)]"
   ]
  },
  {
   "cell_type": "code",
   "execution_count": null,
   "id": "6",
   "metadata": {},
   "outputs": [],
   "source": [
    "# Set minimum and maximum allowed masses for the model (can be tuned)\n",
    "max_likelihood_sample[\"absolute_mmin\"] = 0.5\n",
    "max_likelihood_sample[\"absolute_mmax\"] = 350"
   ]
  },
  {
   "cell_type": "code",
   "execution_count": null,
   "id": "7",
   "metadata": {},
   "outputs": [],
   "source": [
    "print(\"Max parameters:\")\n",
    "print(max_likelihood_sample)"
   ]
  },
  {
   "cell_type": "code",
   "execution_count": null,
   "id": "8",
   "metadata": {},
   "outputs": [],
   "source": [
    "# Use absolute\n",
    "exclude_abs = {\"alpha_1\", \"alpha_2\", \"log_prior\"}\n",
    "for key in max_likelihood_sample.index:\n",
    "    if key not in exclude_abs:\n",
    "        max_likelihood_sample[key] = np.abs(max_likelihood_sample[key])\n",
    "\n",
    "max_likelihood_sample"
   ]
  },
  {
   "cell_type": "markdown",
   "id": "9",
   "metadata": {},
   "source": [
    "\n",
    "## 3. CONSTRUCT POPULATION MODEL WITH MAP PARAMETERS"
   ]
  },
  {
   "cell_type": "code",
   "execution_count": null,
   "id": "10",
   "metadata": {},
   "outputs": [],
   "source": [
    "# Compose the model: mass, spin orientation, spin magnitude, redshift\n",
    "model = Model(\n",
    "    [\n",
    "        matter_matters_pairing,\n",
    "        iid_spin_orientation_gaussian_isotropic,\n",
    "        iid_spin_magnitude_beta,\n",
    "        PowerLawRedshift(z_max=Z_MAX),\n",
    "    ]\n",
    ")\n",
    "\n",
    "model"
   ]
  },
  {
   "cell_type": "code",
   "execution_count": null,
   "id": "11",
   "metadata": {},
   "outputs": [],
   "source": [
    "# Set the parameters from MAP sample\n",
    "model.parameters.update(max_likelihood_sample)"
   ]
  },
  {
   "cell_type": "markdown",
   "id": "12",
   "metadata": {},
   "source": [
    "## 4. DRAW SYNTHETIC POPULATION SAMPLES (IN CHUNKS)"
   ]
  },
  {
   "cell_type": "code",
   "execution_count": null,
   "id": "13",
   "metadata": {},
   "outputs": [],
   "source": [
    "n_chunks = int(np.ceil(N_SAMPLES / CHUNK_SIZE))\n",
    "all_events = []\n",
    "\n",
    "for i in tqdm(range(n_chunks), desc=\"Simulating events\"):\n",
    "    current_chunk_size = min(CHUNK_SIZE, N_SAMPLES - i * CHUNK_SIZE)\n",
    "    events = draw_true_values(\n",
    "        model=model,\n",
    "        vt_model=None,\n",
    "        n_samples=current_chunk_size,\n",
    "        parameters=None,\n",
    "    )\n",
    "    # all_events.append(events)"
   ]
  },
  {
   "cell_type": "markdown",
   "id": "14",
   "metadata": {},
   "source": [
    "\n",
    "## 5. If we need to replace alpha_1 and alpha_chi  values"
   ]
  },
  {
   "cell_type": "code",
   "execution_count": null,
   "id": "15",
   "metadata": {},
   "outputs": [],
   "source": [
    "max_likelihood_sample[\"alpha_chi\"] = 1\n",
    "max_likelihood_sample[\"alpha_1\"] = 1"
   ]
  },
  {
   "cell_type": "code",
   "execution_count": null,
   "id": "16",
   "metadata": {},
   "outputs": [],
   "source": [
    "N_SAMPLES = int(10000)\n",
    "\n",
    "# Compose the model: mass, spin orientation, spin magnitude, redshift\n",
    "model = Model(\n",
    "    [\n",
    "        matter_matters_pairing,\n",
    "        iid_spin_orientation_gaussian_isotropic,\n",
    "        iid_spin_magnitude_beta,\n",
    "        PowerLawRedshift(z_max=Z_MAX),\n",
    "    ]\n",
    ")\n",
    "\n",
    "# Set the parameters from MAP sample\n",
    "model.parameters.update(max_likelihood_sample)\n",
    "\n",
    "n_chunks = int(np.ceil(N_SAMPLES / CHUNK_SIZE))\n",
    "all_events = []\n",
    "\n",
    "for i in tqdm(range(n_chunks), desc=\"Simulating events\"):\n",
    "    current_chunk_size = min(CHUNK_SIZE, N_SAMPLES - i * CHUNK_SIZE)\n",
    "    events = draw_true_values(\n",
    "        model=model,\n",
    "        vt_model=None,\n",
    "        n_samples=current_chunk_size,\n",
    "        parameters=None,\n",
    "    )\n",
    "    # all_events.append(events)"
   ]
  }
 ],
 "metadata": {
  "kernelspec": {
   "display_name": "gwpopulation",
   "language": "python",
   "name": "python3"
  },
  "language_info": {
   "codemirror_mode": {
    "name": "ipython",
    "version": 3
   },
   "file_extension": ".py",
   "mimetype": "text/x-python",
   "name": "python",
   "nbconvert_exporter": "python",
   "pygments_lexer": "ipython3",
   "version": "3.11.13"
  }
 },
 "nbformat": 4,
 "nbformat_minor": 5
}
