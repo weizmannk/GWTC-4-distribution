{
 "cells": [
  {
   "cell_type": "code",
   "execution_count": 60,
   "id": "0",
   "metadata": {},
   "outputs": [],
   "source": [
    "import numpy as np\n",
    "from bilby.core.result import read_in_result\n",
    "from bilby.hyper.model import Model\n",
    "from gwpopulation.models.redshift import PowerLawRedshift\n",
    "from tqdm import tqdm\n",
    "\n",
    "from gwpop.mass_models import matter_matters_pairing\n",
    "from gwpop.spin_models import (\n",
    "    iid_spin_magnitude_beta,\n",
    "    iid_spin_orientation_gaussian_isotropic,\n",
    ")\n",
    "from pipe.gwpopulation_pipe_pdb import draw_true_values"
   ]
  },
  {
   "cell_type": "markdown",
   "id": "1",
   "metadata": {},
   "source": [
    "## 1. CONFIGURATION"
   ]
  },
  {
   "cell_type": "code",
   "execution_count": 61,
   "id": "2",
   "metadata": {},
   "outputs": [],
   "source": [
    "RESULT_FILE = \"data/baseline5_widesigmachi2_mass_NotchFilterBinnedPairingMassDistribution_redshift_powerlaw_mag_iid_spin_magnitude_gaussian_tilt_iid_spin_orientation_result.hdf5\"\n",
    "N_SAMPLES = int(1e6)\n",
    "CHUNK_SIZE = int(1e3)\n",
    "Z_MAX = 2.3"
   ]
  },
  {
   "cell_type": "markdown",
   "id": "3",
   "metadata": {},
   "source": [
    "\n",
    "## 2. LOAD MAP PARAMETERS FROM BILBY RESULT FILE"
   ]
  },
  {
   "cell_type": "code",
   "execution_count": 62,
   "id": "4",
   "metadata": {},
   "outputs": [],
   "source": [
    "# Load \"Broken Power Law + 2 Peaks model\" result\n",
    "result = read_in_result(RESULT_FILE)\n",
    "posterior = result.posterior.copy()"
   ]
  },
  {
   "cell_type": "code",
   "execution_count": 63,
   "id": "5",
   "metadata": {},
   "outputs": [],
   "source": [
    "# Find the sample with maximum likelihood (same as max posterior for uniform priors)\n",
    "max_likelihood_sample = posterior.loc[np.argmax(posterior.log_likelihood)]"
   ]
  },
  {
   "cell_type": "code",
   "execution_count": 64,
   "id": "6",
   "metadata": {},
   "outputs": [],
   "source": [
    "# Set minimum and maximum allowed masses for the model (can be tuned)\n",
    "max_likelihood_sample[\"absolute_mmin\"] = 0.5\n",
    "max_likelihood_sample[\"absolute_mmax\"] = 350"
   ]
  },
  {
   "cell_type": "code",
   "execution_count": 65,
   "id": "7",
   "metadata": {},
   "outputs": [
    {
     "name": "stdout",
     "output_type": "stream",
     "text": [
      "Max parameters:\n",
      "A                  0.091462\n",
      "A2                 0.828165\n",
      "BHmax            152.055979\n",
      "BHmin              7.763955\n",
      "NSmax              4.094744\n",
      "                    ...    \n",
      "var_99             0.001657\n",
      "variance           0.984675\n",
      "xi_spin            0.712869\n",
      "absolute_mmin      0.500000\n",
      "absolute_mmax    350.000000\n",
      "Name: 2411, Length: 334, dtype: float64\n"
     ]
    }
   ],
   "source": [
    "print(\"Max parameters:\")\n",
    "print(max_likelihood_sample)"
   ]
  },
  {
   "cell_type": "code",
   "execution_count": 66,
   "id": "8",
   "metadata": {},
   "outputs": [
    {
     "data": {
      "text/plain": [
       "A                  0.091462\n",
       "A2                 0.828165\n",
       "BHmax            152.055979\n",
       "BHmin              7.763955\n",
       "NSmax              4.094744\n",
       "                    ...    \n",
       "var_99             0.001657\n",
       "variance           0.984675\n",
       "xi_spin            0.712869\n",
       "absolute_mmin      0.500000\n",
       "absolute_mmax    350.000000\n",
       "Name: 2411, Length: 334, dtype: float64"
      ]
     },
     "execution_count": 66,
     "metadata": {},
     "output_type": "execute_result"
    }
   ],
   "source": [
    "# Use absolute\n",
    "exclude_abs = {\"alpha_1\", \"alpha_2\", \"log_prior\"}\n",
    "for key in max_likelihood_sample.index:\n",
    "    if key not in exclude_abs:\n",
    "        max_likelihood_sample[key] = np.abs(max_likelihood_sample[key])\n",
    "\n",
    "max_likelihood_sample"
   ]
  },
  {
   "cell_type": "markdown",
   "id": "9",
   "metadata": {},
   "source": [
    "\n",
    "## 3. CONSTRUCT POPULATION MODEL WITH MAP PARAMETERS"
   ]
  },
  {
   "cell_type": "code",
   "execution_count": 67,
   "id": "10",
   "metadata": {},
   "outputs": [
    {
     "data": {
      "text/plain": [
       "<bilby.hyper.model.Model at 0x126621510>"
      ]
     },
     "execution_count": 67,
     "metadata": {},
     "output_type": "execute_result"
    }
   ],
   "source": [
    "# Compose the model: mass, spin orientation, spin magnitude, redshift\n",
    "model = Model(\n",
    "    [\n",
    "        matter_matters_pairing,\n",
    "        iid_spin_orientation_gaussian_isotropic,\n",
    "        iid_spin_magnitude_beta,\n",
    "        PowerLawRedshift(z_max=Z_MAX),\n",
    "    ]\n",
    ")\n",
    "\n",
    "model"
   ]
  },
  {
   "cell_type": "code",
   "execution_count": 68,
   "id": "11",
   "metadata": {},
   "outputs": [],
   "source": [
    "# Set the parameters from MAP sample\n",
    "model.parameters.update(max_likelihood_sample)"
   ]
  },
  {
   "cell_type": "markdown",
   "id": "12",
   "metadata": {},
   "source": [
    "## 4. DRAW SYNTHETIC POPULATION SAMPLES (IN CHUNKS)"
   ]
  },
  {
   "cell_type": "code",
   "execution_count": 69,
   "id": "13",
   "metadata": {},
   "outputs": [
    {
     "name": "stderr",
     "output_type": "stream",
     "text": [
      "Simulating events:   0%|          | 0/1000 [00:00<?, ?it/s]/Users/rk281962/Projects/CBC/GWTC-4-distribution/utils/cupy_utils.py:198: RuntimeWarning: invalid value encountered in log\n",
      "  ln_beta = (alpha - 1) * xp.log(xx) + (beta - 1) * xp.log(scale - xx)\n"
     ]
    },
    {
     "name": "stdout",
     "output_type": "stream",
     "text": [
      "model.prob(data).shape: (10000000,)\n"
     ]
    },
    {
     "name": "stderr",
     "output_type": "stream",
     "text": [
      "02:16 bilby INFO    : Sampling efficiency low. Total samples so far: 174653\n",
      "/Users/rk281962/Projects/CBC/GWTC-4-distribution/utils/cupy_utils.py:198: RuntimeWarning: invalid value encountered in log\n",
      "  ln_beta = (alpha - 1) * xp.log(xx) + (beta - 1) * xp.log(scale - xx)\n",
      "Simulating events:   0%|          | 0/1000 [00:06<?, ?it/s]"
     ]
    },
    {
     "name": "stdout",
     "output_type": "stream",
     "text": [
      "model.prob(data).shape: (2,)\n"
     ]
    },
    {
     "name": "stderr",
     "output_type": "stream",
     "text": [
      "\n"
     ]
    },
    {
     "ename": "ValueError",
     "evalue": "operands could not be broadcast together with shapes (2,) (10000000,) ",
     "output_type": "error",
     "traceback": [
      "\u001b[31m---------------------------------------------------------------------------\u001b[39m",
      "\u001b[31mValueError\u001b[39m                                Traceback (most recent call last)",
      "\u001b[36mCell\u001b[39m\u001b[36m \u001b[39m\u001b[32mIn[69]\u001b[39m\u001b[32m, line 6\u001b[39m\n\u001b[32m      4\u001b[39m \u001b[38;5;28;01mfor\u001b[39;00m i \u001b[38;5;129;01min\u001b[39;00m tqdm(\u001b[38;5;28mrange\u001b[39m(n_chunks), desc=\u001b[33m\"\u001b[39m\u001b[33mSimulating events\u001b[39m\u001b[33m\"\u001b[39m):\n\u001b[32m      5\u001b[39m     current_chunk_size = \u001b[38;5;28mmin\u001b[39m(CHUNK_SIZE, N_SAMPLES - i * CHUNK_SIZE)\n\u001b[32m----> \u001b[39m\u001b[32m6\u001b[39m     events = \u001b[43mdraw_true_values\u001b[49m\u001b[43m(\u001b[49m\n\u001b[32m      7\u001b[39m \u001b[43m        \u001b[49m\u001b[43mmodel\u001b[49m\u001b[43m=\u001b[49m\u001b[43mmodel\u001b[49m\u001b[43m,\u001b[49m\n\u001b[32m      8\u001b[39m \u001b[43m        \u001b[49m\u001b[43mvt_model\u001b[49m\u001b[43m=\u001b[49m\u001b[38;5;28;43;01mNone\u001b[39;49;00m\u001b[43m,\u001b[49m\n\u001b[32m      9\u001b[39m \u001b[43m        \u001b[49m\u001b[43mn_samples\u001b[49m\u001b[43m=\u001b[49m\u001b[43mcurrent_chunk_size\u001b[49m\u001b[43m,\u001b[49m\n\u001b[32m     10\u001b[39m \u001b[43m        \u001b[49m\u001b[43mparameters\u001b[49m\u001b[43m=\u001b[49m\u001b[38;5;28;43;01mNone\u001b[39;49;00m\u001b[43m,\u001b[49m\n\u001b[32m     11\u001b[39m \u001b[43m    \u001b[49m\u001b[43m)\u001b[49m\n\u001b[32m     12\u001b[39m     \u001b[38;5;66;03m# all_events.append(events)\u001b[39;00m\n",
      "\u001b[36mFile \u001b[39m\u001b[32m~/Projects/CBC/GWTC-4-distribution/pipe/gwpopulation_pipe_pdb.py:89\u001b[39m, in \u001b[36mdraw_true_values\u001b[39m\u001b[34m(model, vt_model, n_samples, parameters)\u001b[39m\n\u001b[32m     85\u001b[39m data[\u001b[33m\"\u001b[39m\u001b[33mmass_2\u001b[39m\u001b[33m\"\u001b[39m] = data[\u001b[33m\"\u001b[39m\u001b[33mmass_1\u001b[39m\u001b[33m\"\u001b[39m] * data[\u001b[33m\"\u001b[39m\u001b[33mmass_ratio\u001b[39m\u001b[33m\"\u001b[39m]\n\u001b[32m     87\u001b[39m \u001b[38;5;28mprint\u001b[39m(\u001b[33m\"\u001b[39m\u001b[33mmodel.prob(data).shape:\u001b[39m\u001b[33m\"\u001b[39m, model.prob(data).shape)\n\u001b[32m---> \u001b[39m\u001b[32m89\u001b[39m prob = \u001b[43mmodel\u001b[49m\u001b[43m.\u001b[49m\u001b[43mprob\u001b[49m\u001b[43m(\u001b[49m\u001b[43mdata\u001b[49m\u001b[43m)\u001b[49m\u001b[43m \u001b[49m\u001b[43m*\u001b[49m\u001b[43m \u001b[49m\u001b[43mdata\u001b[49m\u001b[43m[\u001b[49m\u001b[33;43m\"\u001b[39;49m\u001b[33;43mmass_1\u001b[39;49m\u001b[33;43m\"\u001b[39;49m\u001b[43m]\u001b[49m\n\u001b[32m     90\u001b[39m prob *= vt_model(data)\n\u001b[32m     92\u001b[39m data_df = pd.DataFrame({key: to_numpy(value) \u001b[38;5;28;01mfor\u001b[39;00m key, value \u001b[38;5;129;01min\u001b[39;00m data.items()})\n",
      "\u001b[31mValueError\u001b[39m: operands could not be broadcast together with shapes (2,) (10000000,) "
     ]
    }
   ],
   "source": [
    "n_chunks = int(np.ceil(N_SAMPLES / CHUNK_SIZE))\n",
    "all_events = []\n",
    "\n",
    "for i in tqdm(range(n_chunks), desc=\"Simulating events\"):\n",
    "    current_chunk_size = min(CHUNK_SIZE, N_SAMPLES - i * CHUNK_SIZE)\n",
    "    events = draw_true_values(\n",
    "        model=model,\n",
    "        vt_model=None,\n",
    "        n_samples=current_chunk_size,\n",
    "        parameters=None,\n",
    "    )\n",
    "    # all_events.append(events)"
   ]
  },
  {
   "cell_type": "markdown",
   "id": "14",
   "metadata": {},
   "source": [
    "\n",
    "## 5. If we need to replace alpha_1 and alpha_chi  values"
   ]
  },
  {
   "cell_type": "code",
   "execution_count": 70,
   "id": "15",
   "metadata": {},
   "outputs": [],
   "source": [
    "max_likelihood_sample[\"alpha_chi\"] = 1\n",
    "max_likelihood_sample[\"alpha_1\"] = 1"
   ]
  },
  {
   "cell_type": "code",
   "execution_count": 71,
   "id": "16",
   "metadata": {},
   "outputs": [
    {
     "name": "stderr",
     "output_type": "stream",
     "text": [
      "Simulating events:   0%|          | 0/10 [00:00<?, ?it/s]/Users/rk281962/Projects/CBC/GWTC-4-distribution/gwpop/mass_models.py:125: RuntimeWarning: overflow encountered in power\n",
      "  highpass_lower = 1 + (NSmin / mass) ** n0\n",
      "/Users/rk281962/Projects/CBC/GWTC-4-distribution/gwpop/mass_models.py:126: RuntimeWarning: overflow encountered in power\n",
      "  notch_lower = 1.0 - A / ((1 + (NSmax / mass) ** n1) * (1 + (mass / BHmin) ** n2))\n",
      "/Users/rk281962/Projects/CBC/GWTC-4-distribution/utils/cupy_utils.py:198: RuntimeWarning: invalid value encountered in log\n",
      "  ln_beta = (alpha - 1) * xp.log(xx) + (beta - 1) * xp.log(scale - xx)\n"
     ]
    },
    {
     "name": "stdout",
     "output_type": "stream",
     "text": [
      "model.prob(data).shape: (10000000,)\n"
     ]
    },
    {
     "name": "stderr",
     "output_type": "stream",
     "text": [
      "Simulating events:  10%|█         | 1/10 [00:05<00:53,  5.96s/it]"
     ]
    },
    {
     "name": "stdout",
     "output_type": "stream",
     "text": [
      "model.prob(data).shape: (10000000,)\n"
     ]
    },
    {
     "name": "stderr",
     "output_type": "stream",
     "text": [
      "Simulating events:  20%|██        | 2/10 [00:07<00:26,  3.26s/it]"
     ]
    },
    {
     "name": "stdout",
     "output_type": "stream",
     "text": [
      "model.prob(data).shape: (10000000,)\n"
     ]
    },
    {
     "name": "stderr",
     "output_type": "stream",
     "text": [
      "Simulating events:  30%|███       | 3/10 [00:08<00:16,  2.42s/it]"
     ]
    },
    {
     "name": "stdout",
     "output_type": "stream",
     "text": [
      "model.prob(data).shape: (10000000,)\n"
     ]
    },
    {
     "name": "stderr",
     "output_type": "stream",
     "text": [
      "Simulating events:  40%|████      | 4/10 [00:10<00:11,  1.97s/it]"
     ]
    },
    {
     "name": "stdout",
     "output_type": "stream",
     "text": [
      "model.prob(data).shape: (10000000,)\n"
     ]
    },
    {
     "name": "stderr",
     "output_type": "stream",
     "text": [
      "Simulating events:  50%|█████     | 5/10 [00:11<00:08,  1.71s/it]"
     ]
    },
    {
     "name": "stdout",
     "output_type": "stream",
     "text": [
      "model.prob(data).shape: (10000000,)\n"
     ]
    },
    {
     "name": "stderr",
     "output_type": "stream",
     "text": [
      "Simulating events:  60%|██████    | 6/10 [00:12<00:06,  1.59s/it]"
     ]
    },
    {
     "name": "stdout",
     "output_type": "stream",
     "text": [
      "model.prob(data).shape: (10000000,)\n"
     ]
    },
    {
     "name": "stderr",
     "output_type": "stream",
     "text": [
      "Simulating events:  70%|███████   | 7/10 [00:14<00:04,  1.54s/it]"
     ]
    },
    {
     "name": "stdout",
     "output_type": "stream",
     "text": [
      "model.prob(data).shape: (10000000,)\n"
     ]
    },
    {
     "name": "stderr",
     "output_type": "stream",
     "text": [
      "Simulating events:  80%|████████  | 8/10 [00:15<00:02,  1.45s/it]"
     ]
    },
    {
     "name": "stdout",
     "output_type": "stream",
     "text": [
      "model.prob(data).shape: (10000000,)\n"
     ]
    },
    {
     "name": "stderr",
     "output_type": "stream",
     "text": [
      "Simulating events:  90%|█████████ | 9/10 [00:16<00:01,  1.39s/it]"
     ]
    },
    {
     "name": "stdout",
     "output_type": "stream",
     "text": [
      "model.prob(data).shape: (10000000,)\n"
     ]
    },
    {
     "name": "stderr",
     "output_type": "stream",
     "text": [
      "Simulating events: 100%|██████████| 10/10 [00:17<00:00,  1.79s/it]\n"
     ]
    }
   ],
   "source": [
    "N_SAMPLES = int(10000)\n",
    "\n",
    "# Compose the model: mass, spin orientation, spin magnitude, redshift\n",
    "model = Model(\n",
    "    [\n",
    "        matter_matters_pairing,\n",
    "        iid_spin_orientation_gaussian_isotropic,\n",
    "        iid_spin_magnitude_beta,\n",
    "        PowerLawRedshift(z_max=Z_MAX),\n",
    "    ]\n",
    ")\n",
    "\n",
    "# Set the parameters from MAP sample\n",
    "model.parameters.update(max_likelihood_sample)\n",
    "\n",
    "n_chunks = int(np.ceil(N_SAMPLES / CHUNK_SIZE))\n",
    "all_events = []\n",
    "\n",
    "for i in tqdm(range(n_chunks), desc=\"Simulating events\"):\n",
    "    current_chunk_size = min(CHUNK_SIZE, N_SAMPLES - i * CHUNK_SIZE)\n",
    "    events = draw_true_values(\n",
    "        model=model,\n",
    "        vt_model=None,\n",
    "        n_samples=current_chunk_size,\n",
    "        parameters=None,\n",
    "    )\n",
    "    # all_events.append(events)"
   ]
  }
 ],
 "metadata": {
  "kernelspec": {
   "display_name": "gwpopulation",
   "language": "python",
   "name": "python3"
  },
  "language_info": {
   "codemirror_mode": {
    "name": "ipython",
    "version": 3
   },
   "file_extension": ".py",
   "mimetype": "text/x-python",
   "name": "python",
   "nbconvert_exporter": "python",
   "pygments_lexer": "ipython3",
   "version": "3.11.13"
  }
 },
 "nbformat": 4,
 "nbformat_minor": 5
}
