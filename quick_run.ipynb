{
 "cells": [
  {
   "cell_type": "code",
   "execution_count": 1,
   "id": "36b02c8c-8330-45f5-975c-61717d6898ee",
   "metadata": {},
   "outputs": [
    {
     "name": "stderr",
     "output_type": "stream",
     "text": [
      "/cvmfs/software.igwn.org/conda/envs/igwn-py39/lib/python3.9/site-packages/pandas/core/computation/expressions.py:21: UserWarning: Pandas requires version '2.8.4' or newer of 'numexpr' (version '2.7.3' currently installed).\n",
      "  from pandas.core.computation.check import NUMEXPR_INSTALLED\n"
     ]
    }
   ],
   "source": [
    "import os\n",
    "import numpy as np\n",
    "import pandas as pd\n",
    "from astropy.table import Table\n",
    "from bilby.hyper.model import Model\n",
    "from gwpopulation.models.redshift import PowerLawRedshift\n",
    "from tqdm import tqdm\n",
    "\n",
    "from bilby.core.result import read_in_result\n",
    "\n",
    "from gwpop.mass_models import (\n",
    "    matter_matters_pairing,\n",
    "    matter_matters_primary_secondary_independent,\n",
    ")\n",
    "from gwpop.spin_models import (\n",
    "    iid_spin_magnitude_beta,\n",
    "    iid_spin_orientation_gaussian_isotropic,\n",
    ")\n",
    "from pipe.gwpopulation_pipe_pdb import draw_true_values\n",
    "from utils.cupy_utils import xp\n",
    "from utils.map_utils import extract_map_parameters"
   ]
  },
  {
   "cell_type": "markdown",
   "id": "61bf01c5-c230-4a1c-bfb7-f2e7bdf8e8da",
   "metadata": {},
   "source": [
    "\n",
    "#### ============================================================\n",
    "#### 1. CONFIGURATION\n",
    "#### ============================================================"
   ]
  },
  {
   "cell_type": "code",
   "execution_count": 2,
   "id": "d2a012bd-aa00-4a1e-bcd5-943732501aa7",
   "metadata": {},
   "outputs": [],
   "source": [
    "RESULT_FILE = \"data/baseline5_widesigmachi2_mass_NotchFilterBinnedPairingMassDistribution_redshift_powerlaw_mag_iid_spin_magnitude_gaussian_tilt_iid_spin_orientation_result.hdf5\"\n",
    "N_SAMPLES = int(1e6)\n",
    "CHUNK_SIZE = int(1e3)\n",
    "Z_MAX = 2.3\n"
   ]
  },
  {
   "cell_type": "code",
   "execution_count": 3,
   "id": "41f77a28-7e86-451d-b564-a597e2d400d3",
   "metadata": {},
   "outputs": [],
   "source": [
    "#### ============================================================\n",
    "#### 2. LOAD MAP PARAMETERS FROM BILBY RESULT FILE\n",
    "### ============================================================"
   ]
  },
  {
   "cell_type": "code",
   "execution_count": 4,
   "id": "46e29a07-33ed-41b1-abcd-d2110bd16d74",
   "metadata": {},
   "outputs": [],
   "source": [
    "# Load \"Broken Power Law + 2 Peaks model\" result\n",
    "result = read_in_result(RESULT_FILE)\n",
    "posterior = result.posterior.copy()"
   ]
  },
  {
   "cell_type": "code",
   "execution_count": 5,
   "id": "4cfe622b-196e-4e69-b45d-8c865e14ea01",
   "metadata": {},
   "outputs": [],
   "source": [
    "\n",
    "# Find the sample with maximum likelihood (same as max posterior for uniform priors)\n",
    "max_likelihood_sample = posterior.loc[np.argmax(posterior.log_likelihood)]"
   ]
  },
  {
   "cell_type": "code",
   "execution_count": 6,
   "id": "1d3494fa-4ac5-4b34-9a9c-3e27bcb82d3d",
   "metadata": {},
   "outputs": [],
   "source": [
    "# Set minimum and maximum allowed masses for the model (can be tuned)\n",
    "max_likelihood_sample[\"absolute_mmin\"] = 0.5\n",
    "max_likelihood_sample[\"absolute_mmax\"] = 350"
   ]
  },
  {
   "cell_type": "code",
   "execution_count": 9,
   "id": "8dd9e039-73c7-4c26-8c23-be28259aebf4",
   "metadata": {},
   "outputs": [
    {
     "name": "stdout",
     "output_type": "stream",
     "text": [
      "Max parameters:\n",
      "A                  0.091462\n",
      "A2                 0.828165\n",
      "BHmax            152.055979\n",
      "BHmin              7.763955\n",
      "NSmax              4.094744\n",
      "                    ...    \n",
      "var_99             0.001657\n",
      "variance           0.984675\n",
      "xi_spin            0.712869\n",
      "absolute_mmin      0.500000\n",
      "absolute_mmax    350.000000\n",
      "Name: 2411, Length: 334, dtype: float64\n"
     ]
    }
   ],
   "source": [
    "print(\"Max parameters:\")\n",
    "print(max_likelihood_sample)"
   ]
  },
  {
   "cell_type": "code",
   "execution_count": 10,
   "id": "c319e7c1-00b3-4f76-90ea-43c4f0b38abc",
   "metadata": {},
   "outputs": [],
   "source": [
    "#### ============================================================\n",
    "#### 3. If we need to replace alpha_1 and alpha_chi  values\n",
    "#### ============================================================\n"
   ]
  },
  {
   "cell_type": "code",
   "execution_count": 11,
   "id": "acc57ae3-b0cb-4b50-9771-d6809bd4b5ef",
   "metadata": {},
   "outputs": [],
   "source": [
    "# max_likelihood_sample['alpha_chi'] = 1\n",
    "# max_likelihood_sample['alpha_1'] = 1"
   ]
  },
  {
   "cell_type": "code",
   "execution_count": 12,
   "id": "e934c8a7-b210-473d-a67c-b9b712b45ef1",
   "metadata": {},
   "outputs": [],
   "source": [
    "# Use absolute \n",
    "exclude_abs = {\"alpha_1\", \"alpha_2\", \"log_prior\"}\n",
    "for key in max_likelihood_sample.index:\n",
    "    if key not in exclude_abs:\n",
    "        max_likelihood_sample[key] = np.abs(max_likelihood_sample[key])"
   ]
  },
  {
   "cell_type": "code",
   "execution_count": null,
   "id": "5ffd5813-36e5-49c1-b941-6a53beaec476",
   "metadata": {},
   "outputs": [],
   "source": [
    "# ============================================================\n",
    "# 4. CONSTRUCT POPULATION MODEL WITH MAP PARAMETERS\n",
    "# ============================================================"
   ]
  },
  {
   "cell_type": "code",
   "execution_count": null,
   "id": "5ea98f00-46c2-464d-a92e-c39d80f2e872",
   "metadata": {},
   "outputs": [],
   "source": [
    "# Compose the model: mass, spin orientation, spin magnitude, redshift\n",
    "model = Model([\n",
    "    matter_matters_pairing,\n",
    "    iid_spin_orientation_gaussian_isotropic,\n",
    "    iid_spin_magnitude_beta,\n",
    "    PowerLawRedshift(z_max=Z_MAX),\n",
    "])\n"
   ]
  },
  {
   "cell_type": "code",
   "execution_count": null,
   "id": "434642fc-59c3-4289-9fd2-6979fc4eb605",
   "metadata": {},
   "outputs": [],
   "source": [
    "# Set the parameters from MAP sample\n",
    "model.parameters.update(max_likelihood_sample)"
   ]
  },
  {
   "cell_type": "code",
   "execution_count": null,
   "id": "11eeda5a-8b77-4b82-9447-5877a31743e6",
   "metadata": {},
   "outputs": [],
   "source": [
    "#### ============================================================\n",
    "#### 4. DRAW SYNTHETIC POPULATION SAMPLES (IN CHUNKS)\n",
    "#### ============================================================"
   ]
  },
  {
   "cell_type": "code",
   "execution_count": null,
   "id": "b9969b7d-3f2b-4b82-aade-d340024e64bc",
   "metadata": {},
   "outputs": [],
   "source": [
    "n_chunks = int(np.ceil(N_SAMPLES / CHUNK_SIZE))\n",
    "all_events = []\n",
    "\n",
    "for i in tqdm(range(n_chunks), desc=\"Simulating events\"):\n",
    "    current_chunk_size = min(CHUNK_SIZE, N_SAMPLES - i * CHUNK_SIZE)\n",
    "    events = draw_true_values(\n",
    "        model=model,\n",
    "        vt_model=None,\n",
    "        n_samples=current_chunk_size,\n",
    "        parameters=None,\n",
    "    )\n",
    "    #all_events.append(events)"
   ]
  }
 ],
 "metadata": {
  "kernelspec": {
   "display_name": "igwn-py39",
   "language": "python",
   "name": "igwn-py39"
  },
  "language_info": {
   "codemirror_mode": {
    "name": "ipython",
    "version": 3
   },
   "file_extension": ".py",
   "mimetype": "text/x-python",
   "name": "python",
   "nbconvert_exporter": "python",
   "pygments_lexer": "ipython3",
   "version": "3.9.19"
  }
 },
 "nbformat": 4,
 "nbformat_minor": 5
}
