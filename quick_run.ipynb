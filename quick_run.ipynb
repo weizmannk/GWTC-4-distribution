{
 "cells": [
  {
   "cell_type": "code",
   "execution_count": null,
   "id": "0",
   "metadata": {},
   "outputs": [],
   "source": [
    "import numpy as np\n",
    "from bilby.core.result import read_in_result\n",
    "from bilby.hyper.model import Model\n",
    "from gwpopulation.models.redshift import PowerLawRedshift\n",
    "from tqdm import tqdm\n",
    "\n",
    "from gwpop.mass_models import matter_matters_pairing\n",
    "from gwpop.spin_models import (\n",
    "    iid_spin_magnitude_gaussian,\n",
    "    iid_spin_orientation_gaussian_isotropic,\n",
    ")\n",
    "from pipe.gwpopulation_pipe_pdb import draw_true_values"
   ]
  },
  {
   "cell_type": "markdown",
   "id": "1",
   "metadata": {},
   "source": [
    "## 1. CONFIGURATION"
   ]
  },
  {
   "cell_type": "code",
   "execution_count": null,
   "id": "3",
   "metadata": {},
   "outputs": [],
   "source": [
    "RESULT_FILE = \"data/baseline5_widesigmachi2_mass_NotchFilterBinnedPairingMassDistribution_redshift_powerlaw_mag_iid_spin_magnitude_gaussian_tilt_iid_spin_orientation_result.hdf5\"\n",
    "N_SAMPLES = 1000  # int(1e6)\n",
    "CHUNK_SIZE = int(1e3)\n",
    "Z_MAX = 2.3"
   ]
  },
  {
   "cell_type": "markdown",
   "id": "4",
   "metadata": {},
   "source": [
    "\n",
    "## 2. LOAD MAP PARAMETERS FROM BILBY RESULT FILE"
   ]
  },
  {
   "cell_type": "code",
   "execution_count": null,
   "id": "5",
   "metadata": {},
   "outputs": [],
   "source": [
    "# Load \"Broken Power Law + 2 Peaks model\" result\n",
    "result = read_in_result(RESULT_FILE)\n",
    "post = result.posterior.copy()"
   ]
  },
  {
   "cell_type": "code",
   "execution_count": null,
   "id": "6",
   "metadata": {},
   "outputs": [],
   "source": [
    "# --- MAP hyperparameters ---\n",
    "# Extract the Maximum a Posteriori (MAP) parameters from a Bilby result.\n",
    "# - Load the .hdf5 result file and copy the posterior samples.\n",
    "# - Compute a score:\n",
    "#     * If the prior is non-uniform, use log_likelihood + log_prior (true MAP).\n",
    "#     * If the prior is uniform (constant, as in this case), log_prior adds nothing,\n",
    "#       this means Maximum Likelihood (ML) and Maximum A Posteriori (MAP) coincide.\n",
    "# - Select the sample that maximizes this score.\n",
    "\n",
    "if \"log_prior\" in post and post[\"log_prior\"].nunique() > 1:\n",
    "    score = post.log_likelihood + post.log_prior\n",
    "    max_likelihood_sample = post.iloc[np.argmax(score)]\n",
    "else:\n",
    "    max_likelihood_sample = post.iloc[np.argmax(post.log_likelihood)]"
   ]
  },
  {
   "cell_type": "code",
   "execution_count": null,
   "id": "7",
   "metadata": {},
   "outputs": [],
   "source": [
    "# Set minimum and maximum allowed masses for the model (can be tuned)\n",
    "max_likelihood_sample[\"absolute_mmin\"] = 0.5\n",
    "max_likelihood_sample[\"absolute_mmax\"] = 350.0"
   ]
  },
  {
   "cell_type": "code",
   "execution_count": null,
   "id": "8",
   "metadata": {},
   "outputs": [],
   "source": [
    "print(\"Max parameters:\")\n",
    "print(max_likelihood_sample[\"log_likelihood\"])"
   ]
  },
  {
   "cell_type": "markdown",
   "id": "9",
   "metadata": {},
   "source": [
    "\n",
    "## 3. CONSTRUCT POPULATION MODEL WITH MAP PARAMETERS"
   ]
  },
  {
   "cell_type": "code",
   "execution_count": null,
   "id": "10",
   "metadata": {},
   "outputs": [],
   "source": [
    "# Compose the model: mass, spin orientation, spin magnitude, redshift\n",
    "model = Model(\n",
    "    [\n",
    "        matter_matters_pairing,\n",
    "        iid_spin_orientation_gaussian_isotropic,\n",
    "        iid_spin_magnitude_gaussian,\n",
    "        PowerLawRedshift(z_max=Z_MAX),\n",
    "    ],\n",
    "    cache=False,\n",
    ")\n",
    "\n",
    "model"
   ]
  },
  {
   "cell_type": "code",
   "execution_count": null,
   "id": "11",
   "metadata": {},
   "outputs": [],
   "source": [
    "# Set the parameters from MAP sample\n",
    "model.parameters.update(max_likelihood_sample)"
   ]
  },
  {
   "cell_type": "markdown",
   "id": "12",
   "metadata": {},
   "source": [
    "## 4. DRAW SYNTHETIC POPULATION SAMPLES (IN CHUNKS)"
   ]
  },
  {
   "cell_type": "code",
   "execution_count": null,
   "id": "13",
   "metadata": {},
   "outputs": [],
   "source": [
    "N_SAMPLES = int(100)\n",
    "n_chunks = int(np.ceil(N_SAMPLES / CHUNK_SIZE))\n",
    "\n",
    "all_events = []\n",
    "for i in tqdm(range(n_chunks), desc=\"Simulating events\"):\n",
    "    current_chunk_size = min(CHUNK_SIZE, N_SAMPLES - i * CHUNK_SIZE)\n",
    "    events = draw_true_values(model=model, vt_model=None, n_samples=current_chunk_size)\n",
    "    # all_events.append(events)"
   ]
  },
  {
   "cell_type": "code",
   "execution_count": null,
   "id": "14",
   "metadata": {},
   "outputs": [],
   "source": [
    "events"
   ]
  }
 ],
 "metadata": {
  "kernelspec": {
   "display_name": "gwpopulation",
   "language": "python",
   "name": "python3"
  },
  "language_info": {
   "codemirror_mode": {
    "name": "ipython",
    "version": 3
   },
   "file_extension": ".py",
   "mimetype": "text/x-python",
   "name": "python",
   "nbconvert_exporter": "python",
   "pygments_lexer": "ipython3",
   "version": "3.11.13"
  }
 },
 "nbformat": 4,
 "nbformat_minor": 5
}
